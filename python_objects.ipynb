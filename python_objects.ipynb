{
 "cells": [
  {
   "cell_type": "code",
   "execution_count": 2,
   "id": "3c060807-2803-4aa7-947c-2f1af3a7bbec",
   "metadata": {
    "tags": []
   },
   "outputs": [
    {
     "data": {
      "text/plain": [
       "{'name': 'Anthonia', 'occupation': 'Software Developer', 'company': 'Nugitech'}"
      ]
     },
     "execution_count": 2,
     "metadata": {},
     "output_type": "execute_result"
    }
   ],
   "source": [
    "# Dictionary\n",
    "\n",
    "employee = {\"name\": \"Anthonia\", \"occupation\": \"Software Developer\", \"company\": \"Nugitech\"}\n",
    "employee"
   ]
  },
  {
   "cell_type": "code",
   "execution_count": 3,
   "id": "22256e0b-b278-4c02-b209-120eb860e063",
   "metadata": {
    "tags": []
   },
   "outputs": [
    {
     "name": "stdout",
     "output_type": "stream",
     "text": [
      "{'name': 'Anthonia', 'occupation': 'Software Developer', 'company': 'Nugitech'}\n"
     ]
    }
   ],
   "source": [
    "print(employee)\n"
   ]
  },
  {
   "cell_type": "code",
   "execution_count": 5,
   "id": "1aeb3b89-47e8-4ea1-9295-65a7654d1231",
   "metadata": {
    "tags": []
   },
   "outputs": [
    {
     "data": {
      "text/plain": [
       "{'name': 'Anthonia Alexis Asikpo',\n",
       " 'occupation': 'Software Developer',\n",
       " 'company': 'Nugitech'}"
      ]
     },
     "execution_count": 5,
     "metadata": {},
     "output_type": "execute_result"
    }
   ],
   "source": [
    "employee.update({\"name\": \"Anthonia Alexis Asikpo\"})\n",
    "employee"
   ]
  },
  {
   "cell_type": "code",
   "execution_count": 7,
   "id": "6b197609-8e25-4dca-9061-7c58caf63d56",
   "metadata": {
    "tags": []
   },
   "outputs": [
    {
     "data": {
      "text/plain": [
       "'Nugitech'"
      ]
     },
     "execution_count": 7,
     "metadata": {},
     "output_type": "execute_result"
    }
   ],
   "source": [
    "employee[\"company\"]"
   ]
  },
  {
   "cell_type": "code",
   "execution_count": 25,
   "id": "c5182f4e-1e71-49c3-9d98-3ffb72bfb811",
   "metadata": {
    "tags": []
   },
   "outputs": [
    {
     "data": {
      "text/plain": [
       "'X'"
      ]
     },
     "execution_count": 25,
     "metadata": {},
     "output_type": "execute_result"
    }
   ],
   "source": [
    "# Lists\n",
    "\n",
    "# A list is an 'ordered' collection of data.\n",
    "\n",
    "numbers = [\"II\", \"V\", \"X\", 5, 7.8]\n",
    "\n",
    "random = [\"a\", \"Orange\", \"Grade 4\", 67.5]\n",
    "\n",
    "numbers[2]\n",
    "\n",
    "# Lists and Dictionaries are mutable, the values they hold can be updated and changed using methods."
   ]
  },
  {
   "cell_type": "code",
   "execution_count": 14,
   "id": "5afe2ed5-35af-4663-9059-bdcbdb0405ba",
   "metadata": {
    "tags": []
   },
   "outputs": [],
   "source": [
    "# numbers.append(9000)\n",
    "\n",
    "numbers[0] = \"III\""
   ]
  },
  {
   "cell_type": "code",
   "execution_count": 16,
   "id": "f967af76-64a7-4224-a8b4-08bcaa1a771b",
   "metadata": {
    "tags": []
   },
   "outputs": [
    {
     "data": {
      "text/plain": [
       "['III', 'V', 'X', 5, 7.8, 9000, 9000, 9000]"
      ]
     },
     "execution_count": 16,
     "metadata": {},
     "output_type": "execute_result"
    }
   ],
   "source": [
    "numbers"
   ]
  },
  {
   "cell_type": "code",
   "execution_count": 21,
   "id": "3e74857d-e2f0-4e2f-a325-c0e04a174ec8",
   "metadata": {
    "tags": []
   },
   "outputs": [
    {
     "data": {
      "text/plain": [
       "tuple"
      ]
     },
     "execution_count": 21,
     "metadata": {},
     "output_type": "execute_result"
    }
   ],
   "source": [
    "# Tuples \n",
    "\n",
    "data = (\"a\", 67.5, True, (4*5))\n",
    "\n",
    "type(data)\n",
    "\n",
    "# These are lists that are immutable, their values can't be changed."
   ]
  },
  {
   "cell_type": "code",
   "execution_count": 22,
   "id": "0a91de87-3e55-4e79-8c47-0d3b15dabb24",
   "metadata": {
    "tags": []
   },
   "outputs": [
    {
     "data": {
      "text/plain": [
       "('a', 67.5, True, 20)"
      ]
     },
     "execution_count": 22,
     "metadata": {},
     "output_type": "execute_result"
    }
   ],
   "source": [
    "data"
   ]
  },
  {
   "cell_type": "code",
   "execution_count": 26,
   "id": "8eb7345e-209d-4363-abf5-7e77730b0595",
   "metadata": {
    "tags": []
   },
   "outputs": [
    {
     "data": {
      "text/plain": [
       "list"
      ]
     },
     "execution_count": 26,
     "metadata": {},
     "output_type": "execute_result"
    }
   ],
   "source": [
    "type(random)"
   ]
  },
  {
   "cell_type": "code",
   "execution_count": 27,
   "id": "cf1533b0-786c-41d9-952e-5c715648061a",
   "metadata": {
    "tags": []
   },
   "outputs": [
    {
     "data": {
      "text/plain": [
       "dict"
      ]
     },
     "execution_count": 27,
     "metadata": {},
     "output_type": "execute_result"
    }
   ],
   "source": [
    "type(employee)\n"
   ]
  },
  {
   "cell_type": "code",
   "execution_count": 28,
   "id": "4f3580fd-e23d-4dd0-a0de-cf95f95dc333",
   "metadata": {
    "tags": []
   },
   "outputs": [
    {
     "name": "stdout",
     "output_type": "stream",
     "text": [
      "<class 'dict'>\n"
     ]
    }
   ],
   "source": [
    "print(type(employee))"
   ]
  },
  {
   "cell_type": "code",
   "execution_count": 30,
   "id": "1d46e443-9a8e-4476-8218-7af5478581e2",
   "metadata": {
    "tags": []
   },
   "outputs": [
    {
     "ename": "TypeError",
     "evalue": "'set' object does not support item assignment",
     "output_type": "error",
     "traceback": [
      "\u001b[0;31m---------------------------------------------------------------------------\u001b[0m",
      "\u001b[0;31mTypeError\u001b[0m                                 Traceback (most recent call last)",
      "Cell \u001b[0;32mIn[30], line 5\u001b[0m\n\u001b[1;32m      1\u001b[0m \u001b[38;5;66;03m# Sets\u001b[39;00m\n\u001b[1;32m      3\u001b[0m Fruits \u001b[38;5;241m=\u001b[39m {\u001b[38;5;124m\"\u001b[39m\u001b[38;5;124mOrange\u001b[39m\u001b[38;5;124m\"\u001b[39m, \u001b[38;5;124m\"\u001b[39m\u001b[38;5;124mApple\u001b[39m\u001b[38;5;124m\"\u001b[39m, \u001b[38;5;124m\"\u001b[39m\u001b[38;5;124mGuava\u001b[39m\u001b[38;5;124m\"\u001b[39m}\n\u001b[0;32m----> 5\u001b[0m \u001b[43mFruits\u001b[49m\u001b[43m[\u001b[49m\u001b[38;5;241;43m2\u001b[39;49m\u001b[43m]\u001b[49m \u001b[38;5;241m=\u001b[39m \u001b[38;5;124m\"\u001b[39m\u001b[38;5;124mPawpaw\u001b[39m\u001b[38;5;124m\"\u001b[39m\n\u001b[1;32m      7\u001b[0m \u001b[38;5;66;03m# These are objects that are similar to dictionaries but they are immutable.\u001b[39;00m\n",
      "\u001b[0;31mTypeError\u001b[0m: 'set' object does not support item assignment"
     ]
    }
   ],
   "source": [
    "# Sets\n",
    "\n",
    "Fruits = {\"Orange\", \"Apple\", \"Guava\"}\n",
    "\n",
    "Fruits[2] = \"Pawpaw\"\n",
    "\n",
    "# These are objects that are similar to dictionaries but they are immutable."
   ]
  },
  {
   "cell_type": "code",
   "execution_count": 31,
   "id": "401430d9-a1bb-4df3-b7d8-e30e14e98c14",
   "metadata": {
    "tags": []
   },
   "outputs": [
    {
     "ename": "TypeError",
     "evalue": "'tuple' object does not support item assignment",
     "output_type": "error",
     "traceback": [
      "\u001b[0;31m---------------------------------------------------------------------------\u001b[0m",
      "\u001b[0;31mTypeError\u001b[0m                                 Traceback (most recent call last)",
      "Cell \u001b[0;32mIn[31], line 1\u001b[0m\n\u001b[0;32m----> 1\u001b[0m \u001b[43mdata\u001b[49m\u001b[43m[\u001b[49m\u001b[38;5;241;43m2\u001b[39;49m\u001b[43m]\u001b[49m \u001b[38;5;241m=\u001b[39m \u001b[38;5;28;01mFalse\u001b[39;00m\n",
      "\u001b[0;31mTypeError\u001b[0m: 'tuple' object does not support item assignment"
     ]
    }
   ],
   "source": [
    "data[2] = False"
   ]
  },
  {
   "cell_type": "code",
   "execution_count": 32,
   "id": "eb0d1899-4fcb-4f4f-8cd1-b75d7e447c5c",
   "metadata": {
    "tags": []
   },
   "outputs": [
    {
     "name": "stdout",
     "output_type": "stream",
     "text": [
      "5\n"
     ]
    }
   ],
   "source": [
    "# = assignment operator\n",
    "# == equal to\n",
    "\n",
    "a = 5\n",
    "print(a)\n"
   ]
  },
  {
   "cell_type": "code",
   "execution_count": 34,
   "id": "18f09caa-fa6f-47d5-b42a-f8d0390b64ec",
   "metadata": {
    "tags": []
   },
   "outputs": [
    {
     "data": {
      "text/plain": [
       "False"
      ]
     },
     "execution_count": 34,
     "metadata": {},
     "output_type": "execute_result"
    }
   ],
   "source": [
    "b = 7.8\n",
    "\n",
    "a == b"
   ]
  },
  {
   "cell_type": "code",
   "execution_count": 36,
   "id": "a399925c-5bc9-4323-9bf6-95dd4197885c",
   "metadata": {
    "tags": []
   },
   "outputs": [
    {
     "data": {
      "text/plain": [
       "bool"
      ]
     },
     "execution_count": 36,
     "metadata": {},
     "output_type": "execute_result"
    }
   ],
   "source": [
    "type(a == b)\n"
   ]
  },
  {
   "cell_type": "code",
   "execution_count": 2,
   "id": "c47d5cf1-ce4c-428a-9332-36b58a8276b4",
   "metadata": {
    "tags": []
   },
   "outputs": [
    {
     "ename": "NameError",
     "evalue": "name 'a' is not defined",
     "output_type": "error",
     "traceback": [
      "\u001b[0;31m---------------------------------------------------------------------------\u001b[0m",
      "\u001b[0;31mNameError\u001b[0m                                 Traceback (most recent call last)",
      "Cell \u001b[0;32mIn[2], line 1\u001b[0m\n\u001b[0;32m----> 1\u001b[0m \u001b[38;5;28mtype\u001b[39m(\u001b[43ma\u001b[49m \u001b[38;5;241m+\u001b[39m b)\n",
      "\u001b[0;31mNameError\u001b[0m: name 'a' is not defined"
     ]
    }
   ],
   "source": [
    "type(a + b)"
   ]
  },
  {
   "cell_type": "code",
   "execution_count": 3,
   "id": "8f0bbac6-05c3-4111-9b1e-3ff30b026574",
   "metadata": {
    "tags": []
   },
   "outputs": [
    {
     "data": {
      "text/plain": [
       "float"
      ]
     },
     "execution_count": 3,
     "metadata": {},
     "output_type": "execute_result"
    }
   ],
   "source": [
    "a = 6.7\n",
    "b = 9\n",
    "\n",
    "type(a + b)"
   ]
  },
  {
   "cell_type": "code",
   "execution_count": 4,
   "id": "cfac626d-7743-403a-aeaa-a2087f44683b",
   "metadata": {
    "tags": []
   },
   "outputs": [
    {
     "data": {
      "text/plain": [
       "4"
      ]
     },
     "execution_count": 4,
     "metadata": {},
     "output_type": "execute_result"
    }
   ],
   "source": [
    "fruits = [\"orange\", \"apple\", \"banana\", \"guava\"]\n",
    "len(fruits)"
   ]
  },
  {
   "cell_type": "code",
   "execution_count": 5,
   "id": "57ac0156-c971-4cda-88cb-c9462b5cc4d9",
   "metadata": {
    "tags": []
   },
   "outputs": [
    {
     "data": {
      "text/plain": [
       "{2, True, 'apple', 'banana', 'cherry'}"
      ]
     },
     "execution_count": 5,
     "metadata": {},
     "output_type": "execute_result"
    }
   ],
   "source": [
    "thisset = {\"apple\", \"banana\", \"cherry\", True, 1, 2}\n",
    "thisset\n"
   ]
  },
  {
   "cell_type": "code",
   "execution_count": null,
   "id": "473d7a78-cd5f-4733-a107-7de696561b31",
   "metadata": {},
   "outputs": [],
   "source": []
  }
 ],
 "metadata": {
  "kernelspec": {
   "display_name": "Python 3 (ipykernel)",
   "language": "python",
   "name": "python3"
  },
  "language_info": {
   "codemirror_mode": {
    "name": "ipython",
    "version": 3
   },
   "file_extension": ".py",
   "mimetype": "text/x-python",
   "name": "python",
   "nbconvert_exporter": "python",
   "pygments_lexer": "ipython3",
   "version": "3.11.1"
  }
 },
 "nbformat": 4,
 "nbformat_minor": 5
}
