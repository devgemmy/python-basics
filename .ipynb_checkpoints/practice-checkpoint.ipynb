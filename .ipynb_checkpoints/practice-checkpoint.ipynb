{
 "cells": [
  {
   "cell_type": "code",
   "execution_count": 4,
   "id": "8e3ac598-885e-4579-9669-b25b900b4949",
   "metadata": {
    "tags": []
   },
   "outputs": [
    {
     "name": "stdout",
     "output_type": "stream",
     "text": [
      "(10+7j)\n"
     ]
    }
   ],
   "source": [
    "real = 10\n",
    "imaginary = 7\n",
    "\n",
    "complex_number = complex(real, imaginary)\n",
    "print(complex_number)"
   ]
  },
  {
   "cell_type": "code",
   "execution_count": 5,
   "id": "8ef3c341-9aa7-428a-b126-643454000856",
   "metadata": {
    "tags": []
   },
   "outputs": [
    {
     "ename": "ValueError",
     "evalue": "complex() arg is a malformed string",
     "output_type": "error",
     "traceback": [
      "\u001b[0;31m---------------------------------------------------------------------------\u001b[0m",
      "\u001b[0;31mValueError\u001b[0m                                Traceback (most recent call last)",
      "Cell \u001b[0;32mIn[5], line 1\u001b[0m\n\u001b[0;32m----> 1\u001b[0m complex_number2 \u001b[38;5;241m=\u001b[39m \u001b[38;5;28;43mcomplex\u001b[39;49m\u001b[43m(\u001b[49m\u001b[38;5;124;43m'\u001b[39;49m\u001b[38;5;124;43m5-7k\u001b[39;49m\u001b[38;5;124;43m'\u001b[39;49m\u001b[43m)\u001b[49m\n\u001b[1;32m      2\u001b[0m \u001b[38;5;28mprint\u001b[39m(complex_number2)\n",
      "\u001b[0;31mValueError\u001b[0m: complex() arg is a malformed string"
     ]
    }
   ],
   "source": [
    "complex_number2 = complex('5-7k')\n",
    "print(complex_number2)\n",
    "\n",
    "# j denotes the imaginary value in a complex number. No other char can be used in it's place."
   ]
  },
  {
   "cell_type": "code",
   "execution_count": 6,
   "id": "835123ef-bf29-4792-a7aa-3521c4309e63",
   "metadata": {
    "tags": []
   },
   "outputs": [
    {
     "ename": "ValueError",
     "evalue": "complex() arg is a malformed string",
     "output_type": "error",
     "traceback": [
      "\u001b[0;31m---------------------------------------------------------------------------\u001b[0m",
      "\u001b[0;31mValueError\u001b[0m                                Traceback (most recent call last)",
      "Cell \u001b[0;32mIn[6], line 1\u001b[0m\n\u001b[0;32m----> 1\u001b[0m complex_number3 \u001b[38;5;241m=\u001b[39m \u001b[38;5;28;43mcomplex\u001b[39;49m\u001b[43m(\u001b[49m\u001b[38;5;124;43m'\u001b[39;49m\u001b[38;5;124;43m5-7i\u001b[39;49m\u001b[38;5;124;43m'\u001b[39;49m\u001b[43m)\u001b[49m\n\u001b[1;32m      2\u001b[0m \u001b[38;5;28mprint\u001b[39m(complex_number3)\n",
      "\u001b[0;31mValueError\u001b[0m: complex() arg is a malformed string"
     ]
    }
   ],
   "source": [
    "complex_number3 = complex('5-7i')\n",
    "print(complex_number3)"
   ]
  },
  {
   "cell_type": "code",
   "execution_count": 7,
   "id": "08710e27-0c17-49b9-9e8e-7a3ea57968c2",
   "metadata": {
    "tags": []
   },
   "outputs": [
    {
     "name": "stdout",
     "output_type": "stream",
     "text": [
      "(5-7j)\n"
     ]
    }
   ],
   "source": [
    "complex_number4 = complex('5-7j')\n",
    "print(complex_number4)"
   ]
  },
  {
   "cell_type": "code",
   "execution_count": 8,
   "id": "1f46e5c2-ec10-466c-9673-09dcb6f0ff9e",
   "metadata": {
    "tags": []
   },
   "outputs": [
    {
     "ename": "ValueError",
     "evalue": "complex() arg is a malformed string",
     "output_type": "error",
     "traceback": [
      "\u001b[0;31m---------------------------------------------------------------------------\u001b[0m",
      "\u001b[0;31mValueError\u001b[0m                                Traceback (most recent call last)",
      "Cell \u001b[0;32mIn[8], line 1\u001b[0m\n\u001b[0;32m----> 1\u001b[0m complex_number5 \u001b[38;5;241m=\u001b[39m \u001b[38;5;28;43mcomplex\u001b[39;49m\u001b[43m(\u001b[49m\u001b[38;5;124;43m'\u001b[39;49m\u001b[38;5;124;43m5i-7j\u001b[39;49m\u001b[38;5;124;43m'\u001b[39;49m\u001b[43m)\u001b[49m\n\u001b[1;32m      2\u001b[0m \u001b[38;5;28mprint\u001b[39m(complex_number5)\n",
      "\u001b[0;31mValueError\u001b[0m: complex() arg is a malformed string"
     ]
    }
   ],
   "source": [
    "complex_number5 = complex('5i-7j')\n",
    "print(complex_number5)"
   ]
  },
  {
   "cell_type": "code",
   "execution_count": 9,
   "id": "8d38a9a1-71be-490f-8a43-f3c54f1f9d23",
   "metadata": {
    "tags": []
   },
   "outputs": [
    {
     "ename": "SyntaxError",
     "evalue": "invalid decimal literal (164647745.py, line 1)",
     "output_type": "error",
     "traceback": [
      "\u001b[0;36m  Cell \u001b[0;32mIn[9], line 1\u001b[0;36m\u001b[0m\n\u001b[0;31m    complex_number6 = complex(5i+7j)\u001b[0m\n\u001b[0m                              ^\u001b[0m\n\u001b[0;31mSyntaxError\u001b[0m\u001b[0;31m:\u001b[0m invalid decimal literal\n"
     ]
    }
   ],
   "source": [
    "complex_number6 = complex(5i+7j)\n",
    "print(complex_number6)"
   ]
  },
  {
   "cell_type": "code",
   "execution_count": 11,
   "id": "10a37013-66d2-4f32-866e-02d94584cc07",
   "metadata": {
    "tags": []
   },
   "outputs": [
    {
     "name": "stdout",
     "output_type": "stream",
     "text": [
      "Complex number formed:  (2+3j)\n"
     ]
    }
   ],
   "source": [
    "complex_number6 = complex('2+3j')\n",
    "\n",
    "print(\"Complex number formed: \", complex_number6)"
   ]
  },
  {
   "cell_type": "code",
   "execution_count": 17,
   "id": "85691480-2a40-45d9-b72a-fcccb528c335",
   "metadata": {
    "tags": []
   },
   "outputs": [
    {
     "name": "stdout",
     "output_type": "stream",
     "text": [
      "<class 'complex'>\n",
      "(3+5j)\n"
     ]
    }
   ],
   "source": [
    "real_num = 3\n",
    "imaginary = 5\n",
    "\n",
    "cmplx = real_num + imaginary *1j\n",
    "print(type(cmplx))\n",
    "print(cmplx)"
   ]
  },
  {
   "cell_type": "code",
   "execution_count": 18,
   "id": "570a2e41-f2d6-4202-91cd-a72e222c0c51",
   "metadata": {
    "tags": []
   },
   "outputs": [
    {
     "name": "stdout",
     "output_type": "stream",
     "text": [
      "0 1 2 3 4 5 6 7 8 "
     ]
    }
   ],
   "source": [
    "for i in range(9):\n",
    "    # stop value is 9\n",
    "    print(i, end=\" \")\n"
   ]
  },
  {
   "cell_type": "code",
   "execution_count": 19,
   "id": "9fbfcf98-ce53-4582-a60b-fe0f8fd3c4fa",
   "metadata": {
    "tags": []
   },
   "outputs": [
    {
     "name": "stdout",
     "output_type": "stream",
     "text": [
      "2 3 4 5 6 7 "
     ]
    }
   ],
   "source": [
    "for i in range(2,8):\n",
    "    # start value is 2, stop value is 8\n",
    "    print(i, end=\" \")\n",
    "    "
   ]
  },
  {
   "cell_type": "code",
   "execution_count": 20,
   "id": "213f1c52-2022-4a88-b71d-ebcfbc6c1903",
   "metadata": {
    "tags": []
   },
   "outputs": [
    {
     "name": "stdout",
     "output_type": "stream",
     "text": [
      "0 5 10 15 20 25 "
     ]
    }
   ],
   "source": [
    "for a in range(0,30,5):\n",
    "    # step value is 5\n",
    "    print(a, end=\" \")"
   ]
  },
  {
   "cell_type": "code",
   "execution_count": 21,
   "id": "4b29b34c-599d-4d4e-8aa5-8147ff8c5081",
   "metadata": {
    "tags": []
   },
   "outputs": [
    {
     "name": "stdout",
     "output_type": "stream",
     "text": [
      "-9 -6 -3 0 3 6 "
     ]
    }
   ],
   "source": [
    "for b in range(-9,9,3):\n",
    "    print(b, end=\" \")"
   ]
  },
  {
   "cell_type": "code",
   "execution_count": 22,
   "id": "1f2567ec-f167-403a-bcf6-50e7d01146af",
   "metadata": {
    "tags": []
   },
   "outputs": [
    {
     "name": "stdout",
     "output_type": "stream",
     "text": [
      "24 21 18 15 12 9 "
     ]
    }
   ],
   "source": [
    "for c in range(24,8,-3):\n",
    "    print(c, end=\" \")"
   ]
  },
  {
   "cell_type": "code",
   "execution_count": 52,
   "id": "417c631a-1044-4b35-8329-29e212439ace",
   "metadata": {
    "tags": []
   },
   "outputs": [
    {
     "name": "stdout",
     "output_type": "stream",
     "text": [
      "8\n",
      "[0, 1, 3, 8, 6, 7]\n",
      "(0, 1, 3, 8, 6, 7)\n"
     ]
    }
   ],
   "source": [
    "#tuples are immutable lists, frozensets are immutable sets\n",
    "\n",
    "color = [0,1,3,4,6,7]\n",
    "color[3] = 8\n",
    "print(color[3])\n",
    "print(color)\n",
    "colort = tuple(color)\n",
    "print(colort)\n"
   ]
  },
  {
   "cell_type": "code",
   "execution_count": 50,
   "id": "f1331527-8f2c-4f7b-99be-e325af0ad9f3",
   "metadata": {
    "tags": []
   },
   "outputs": [
    {
     "name": "stdout",
     "output_type": "stream",
     "text": [
      "I'm tired\n",
      "{'text': [\"I'm tired\", '2023‑03‑10 13:45:30.040'], 'sender': 'Tonia', 'receiver': 'Paula'}\n"
     ]
    }
   ],
   "source": [
    "text = {\n",
    "    \"char\": \"I'm tired\",\n",
    "    \"timestamp\": \"2023‑03‑10 13:45:30.040\"\n",
    "}\n",
    "\n",
    "message = {\n",
    "    \"text\": [text[\"char\"], text[\"timestamp\"]],\n",
    "    \"sender\": \"Tonia\",\n",
    "    \"receiver\": \"Paula\",\n",
    "}\n",
    "\n",
    "text = message[\"text\"]\n",
    "\n",
    "print(text[0])\n",
    "print(message)"
   ]
  },
  {
   "cell_type": "code",
   "execution_count": null,
   "id": "3c26e29d-6104-464c-82fe-e421672d9bbb",
   "metadata": {},
   "outputs": [],
   "source": []
  }
 ],
 "metadata": {
  "kernelspec": {
   "display_name": "Python 3 (ipykernel)",
   "language": "python",
   "name": "python3"
  },
  "language_info": {
   "codemirror_mode": {
    "name": "ipython",
    "version": 3
   },
   "file_extension": ".py",
   "mimetype": "text/x-python",
   "name": "python",
   "nbconvert_exporter": "python",
   "pygments_lexer": "ipython3",
   "version": "3.11.1"
  }
 },
 "nbformat": 4,
 "nbformat_minor": 5
}
